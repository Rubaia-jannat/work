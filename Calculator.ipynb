{
  "nbformat": 4,
  "nbformat_minor": 0,
  "metadata": {
    "colab": {
      "provenance": [],
      "authorship_tag": "ABX9TyODmHfXL3VpS2h3wXNl+88M",
      "include_colab_link": true
    },
    "kernelspec": {
      "name": "python3",
      "display_name": "Python 3"
    },
    "language_info": {
      "name": "python"
    }
  },
  "cells": [
    {
      "cell_type": "markdown",
      "metadata": {
        "id": "view-in-github",
        "colab_type": "text"
      },
      "source": [
        "<a href=\"https://colab.research.google.com/github/Rubaia-jannat/work/blob/main/Calculator.ipynb\" target=\"_parent\"><img src=\"https://colab.research.google.com/assets/colab-badge.svg\" alt=\"Open In Colab\"/></a>"
      ]
    },
    {
      "cell_type": "code",
      "execution_count": null,
      "metadata": {
        "colab": {
          "base_uri": "https://localhost:8080/"
        },
        "id": "zKX8k9cmeoLj",
        "outputId": "70bb6dd8-17d3-40ab-8f36-af028e0f1a46"
      },
      "outputs": [
        {
          "output_type": "stream",
          "name": "stdout",
          "text": [
            "select an operator to perform\n",
            "1. ADD\n",
            "2. SUBSTRACT\n",
            "3. MULTIPLY\n",
            "4. DIVIDE\n",
            "1\n",
            "Enter first number56\n",
            "Enter second number88\n",
            "The sum is:144\n"
          ]
        }
      ],
      "source": [
        "print(\"select an operator to perform\")\n",
        "print(\"1. ADD\")\n",
        "print(\"2. SUBSTRACT\")\n",
        "print(\"3. MULTIPLY\")\n",
        "print(\"4. DIVIDE\")\n",
        "\n",
        "operation = input()\n",
        "\n",
        "if operation == \"1\":\n",
        "    num1 = input(\"Enter first number\")\n",
        "    num2 = input(\"Enter second number\")\n",
        "    print(\"The sum is:\" + str(int(num1)+int(num2)))\n",
        "elif operation == \"2\":\n",
        "    num1 = input(\"Enter first number\")\n",
        "    num2 = input(\"Enter second number\")\n",
        "    print(\"The difference is\" + str(int(num1)-int(num2)))\n",
        "elif operation == \"3\":\n",
        "    num1 = input(\"Enter first number\")\n",
        "    num2 = input(\"Enter second number\")\n",
        "    print(\"The product is:\" + str(int(num1)*int(num2)))\n",
        "elif operation ==\"4\":\n",
        "    num1 = input(\"Enter first number\")\n",
        "    num2 = input(\"Enter second number\")\n",
        "    print(\"The result is: \" + str(int(num1)/int(num2)))\n",
        "\n",
        "else:\n",
        "    print(\"invalid entry\")"
      ]
    },
    {
      "cell_type": "code",
      "source": [
        "a_random_string = \"This is class of pp02\"\n",
        "word_list_of_random_string ="
      ],
      "metadata": {
        "id": "auR3fUR_xUVQ"
      },
      "execution_count": null,
      "outputs": []
    },
    {
      "cell_type": "code",
      "source": [
        "fruit_list = [\"banana\",\"apple\",\"orange\"]\n",
        "first_one, *rest = fruit_list\n",
        "print(first_one,*rest)\n"
      ],
      "metadata": {
        "id": "jmBJVBR80Onq",
        "colab": {
          "base_uri": "https://localhost:8080/"
        },
        "outputId": "48170268-75ba-4f1c-81a2-b659583015fa"
      },
      "execution_count": null,
      "outputs": [
        {
          "output_type": "stream",
          "name": "stdout",
          "text": [
            "banana apple orange\n"
          ]
        }
      ]
    },
    {
      "cell_type": "code",
      "source": [
        "def sum(*any_num_args):\n",
        "  print(type(any_num_args))"
      ],
      "metadata": {
        "id": "SpvUBNpF1xQa"
      },
      "execution_count": null,
      "outputs": []
    },
    {
      "cell_type": "code",
      "source": [
        "sum(*user_)"
      ],
      "metadata": {
        "id": "ezxTCKwn2EpJ",
        "colab": {
          "base_uri": "https://localhost:8080/",
          "height": 147
        },
        "outputId": "34e0895f-1dfe-4684-97dc-0dec9127aa10"
      },
      "execution_count": null,
      "outputs": [
        {
          "output_type": "error",
          "ename": "NameError",
          "evalue": "name 'user_' is not defined",
          "traceback": [
            "\u001b[0;31m---------------------------------------------------------------------------\u001b[0m",
            "\u001b[0;31mNameError\u001b[0m                                 Traceback (most recent call last)",
            "\u001b[0;32m<ipython-input-13-afc4e1cb523b>\u001b[0m in \u001b[0;36m<cell line: 1>\u001b[0;34m()\u001b[0m\n\u001b[0;32m----> 1\u001b[0;31m \u001b[0msum\u001b[0m\u001b[0;34m(\u001b[0m\u001b[0;34m*\u001b[0m\u001b[0muser_\u001b[0m\u001b[0;34m)\u001b[0m\u001b[0;34m\u001b[0m\u001b[0;34m\u001b[0m\u001b[0m\n\u001b[0m",
            "\u001b[0;31mNameError\u001b[0m: name 'user_' is not defined"
          ]
        }
      ]
    },
    {
      "cell_type": "markdown",
      "source": [
        "returning multiple value from a function"
      ],
      "metadata": {
        "id": "YJ9CIAkvD7jQ"
      }
    },
    {
      "cell_type": "code",
      "source": [
        "def user_input_for_calculation():\n",
        "  operator = input(\"Enter +,-,*,/: \")\n",
        "  numbers  = input(\"Enter numbers\")\n",
        "  return operator, numbers"
      ],
      "metadata": {
        "id": "tpIslO3g26xS"
      },
      "execution_count": null,
      "outputs": []
    },
    {
      "cell_type": "code",
      "source": [
        "inputs = user_input_for_calculation()"
      ],
      "metadata": {
        "colab": {
          "base_uri": "https://localhost:8080/",
          "height": 256
        },
        "id": "xZCa0yIsFBkQ",
        "outputId": "b4f45b50-0d6f-46a0-9a6a-e7a8dc6c170d"
      },
      "execution_count": null,
      "outputs": [
        {
          "output_type": "error",
          "ename": "TypeError",
          "evalue": "'tuple' object is not callable",
          "traceback": [
            "\u001b[0;31m---------------------------------------------------------------------------\u001b[0m",
            "\u001b[0;31mTypeError\u001b[0m                                 Traceback (most recent call last)",
            "\u001b[0;32m<ipython-input-31-d3139557ce92>\u001b[0m in \u001b[0;36m<cell line: 1>\u001b[0;34m()\u001b[0m\n\u001b[0;32m----> 1\u001b[0;31m \u001b[0minputs\u001b[0m \u001b[0;34m=\u001b[0m \u001b[0muser_input_for_calculation\u001b[0m\u001b[0;34m(\u001b[0m\u001b[0;34m)\u001b[0m\u001b[0;34m\u001b[0m\u001b[0;34m\u001b[0m\u001b[0m\n\u001b[0m",
            "\u001b[0;32m<ipython-input-30-66dad5b93437>\u001b[0m in \u001b[0;36muser_input_for_calculation\u001b[0;34m()\u001b[0m\n\u001b[1;32m      1\u001b[0m \u001b[0;32mdef\u001b[0m \u001b[0muser_input_for_calculation\u001b[0m\u001b[0;34m(\u001b[0m\u001b[0;34m)\u001b[0m\u001b[0;34m:\u001b[0m\u001b[0;34m\u001b[0m\u001b[0;34m\u001b[0m\u001b[0m\n\u001b[0;32m----> 2\u001b[0;31m   \u001b[0moperator\u001b[0m \u001b[0;34m=\u001b[0m \u001b[0minput\u001b[0m\u001b[0;34m(\u001b[0m\u001b[0;34m\"Enter +,-,*,/: \"\u001b[0m\u001b[0;34m)\u001b[0m\u001b[0;34m\u001b[0m\u001b[0;34m\u001b[0m\u001b[0m\n\u001b[0m\u001b[1;32m      3\u001b[0m   \u001b[0mnumbers\u001b[0m  \u001b[0;34m=\u001b[0m \u001b[0minput\u001b[0m\u001b[0;34m(\u001b[0m\u001b[0;34m\"Enter numbers\"\u001b[0m\u001b[0;34m)\u001b[0m\u001b[0;34m\u001b[0m\u001b[0;34m\u001b[0m\u001b[0m\n\u001b[1;32m      4\u001b[0m   \u001b[0;32mreturn\u001b[0m \u001b[0moperator\u001b[0m\u001b[0;34m,\u001b[0m \u001b[0mnumbers\u001b[0m\u001b[0;34m\u001b[0m\u001b[0;34m\u001b[0m\u001b[0m\n",
            "\u001b[0;31mTypeError\u001b[0m: 'tuple' object is not callable"
          ]
        }
      ]
    },
    {
      "cell_type": "code",
      "source": [
        "def countdown (n):\n"
      ],
      "metadata": {
        "id": "kBqwT2yXA3mv"
      },
      "execution_count": null,
      "outputs": []
    },
    {
      "cell_type": "code",
      "source": [
        "PP02_dict = {\n",
        "    \"title\": \"python class of PP02 batch\",\n",
        "    \"no_of_students\": 25,\n",
        "    \"location\": \"IICT,SUST\"\n",
        "}"
      ],
      "metadata": {
        "id": "t4qS14kaxNLv"
      },
      "execution_count": null,
      "outputs": []
    },
    {
      "cell_type": "code",
      "source": [
        "type(PP02_dict)"
      ],
      "metadata": {
        "colab": {
          "base_uri": "https://localhost:8080/"
        },
        "id": "mcEAJlOJxaE-",
        "outputId": "71018774-34c0-458e-c9a4-1120a5874e96"
      },
      "execution_count": null,
      "outputs": [
        {
          "output_type": "execute_result",
          "data": {
            "text/plain": [
              "dict"
            ]
          },
          "metadata": {},
          "execution_count": 3
        }
      ]
    },
    {
      "cell_type": "code",
      "source": [
        "my_dict = dict(name = \"PP02\", age = \"9\", birth_place = \"IICT,SUST\")"
      ],
      "metadata": {
        "id": "dgZxNQJRxjce"
      },
      "execution_count": null,
      "outputs": []
    },
    {
      "cell_type": "code",
      "source": [
        "my_dict"
      ],
      "metadata": {
        "colab": {
          "base_uri": "https://localhost:8080/"
        },
        "id": "BC9dYAjByEOm",
        "outputId": "50205bd6-039f-402c-d47d-876fcc2724f8"
      },
      "execution_count": null,
      "outputs": [
        {
          "output_type": "execute_result",
          "data": {
            "text/plain": [
              "{'name': 'PP02', 'age': '9', 'birth_place': 'IICT,SUST'}"
            ]
          },
          "metadata": {},
          "execution_count": 5
        }
      ]
    },
    {
      "cell_type": "code",
      "source": [
        "name  = my_dict.get(\"name\",\"Nothing is found using search key\")\n",
        "print(name)"
      ],
      "metadata": {
        "colab": {
          "base_uri": "https://localhost:8080/"
        },
        "id": "zvuBSm-myNBO",
        "outputId": "a10101d5-0393-4e26-a7c2-8785f1824042"
      },
      "execution_count": null,
      "outputs": [
        {
          "output_type": "stream",
          "name": "stdout",
          "text": [
            "PP02\n"
          ]
        }
      ]
    },
    {
      "cell_type": "code",
      "source": [
        "my_dict[\"birth place\"] = \"201,IICT,SUST\"\n",
        "print(my_dict)"
      ],
      "metadata": {
        "colab": {
          "base_uri": "https://localhost:8080/"
        },
        "id": "MxCzuCOIyuUO",
        "outputId": "959327b4-829c-4a33-fe3f-06af1576c34c"
      },
      "execution_count": null,
      "outputs": [
        {
          "output_type": "stream",
          "name": "stdout",
          "text": [
            "{'name': 'PP02', 'age': '9', 'birth_place': 'IICT,SUST', 'birth place': '201,IICT,SUST'}\n"
          ]
        }
      ]
    },
    {
      "cell_type": "code",
      "source": [
        "my_dict.pop(\"age\")\n",
        "print(my_dict)"
      ],
      "metadata": {
        "colab": {
          "base_uri": "https://localhost:8080/"
        },
        "id": "qMFW52xfzSR4",
        "outputId": "3df9d3b7-fcf7-4143-c24b-c7acb5e996b2"
      },
      "execution_count": null,
      "outputs": [
        {
          "output_type": "stream",
          "name": "stdout",
          "text": [
            "{'name': 'PP02', 'birth_place': 'IICT,SUST', 'birth place': '201,IICT,SUST'}\n"
          ]
        }
      ]
    },
    {
      "cell_type": "markdown",
      "source": [
        "pop delete the value of dictonary"
      ],
      "metadata": {
        "id": "lkYmbeeczyQX"
      }
    },
    {
      "cell_type": "code",
      "source": [
        "del my_dict[\"name\"]\n",
        "print(my_dict)"
      ],
      "metadata": {
        "colab": {
          "base_uri": "https://localhost:8080/"
        },
        "id": "KoYz18eGz6jV",
        "outputId": "c4233c6d-4f7a-4ea4-c843-1f007a9dc92d"
      },
      "execution_count": null,
      "outputs": [
        {
          "output_type": "stream",
          "name": "stdout",
          "text": [
            "{'birth_place': 'IICT,SUST', 'birth place': '201,IICT,SUST'}\n"
          ]
        }
      ]
    },
    {
      "cell_type": "code",
      "source": [
        "keys = PP02_dict.keys()\n",
        "print(keys)\n",
        "values = PP02_dict.values()\n",
        "print(values)\n",
        "items = PP02_dict.items()\n",
        "print(items)\n",
        "PP02_dict.update({\"tital\":\"pp02\", \"location\":\"SUST\"})"
      ],
      "metadata": {
        "colab": {
          "base_uri": "https://localhost:8080/"
        },
        "id": "Tqdr3Pzk0iBW",
        "outputId": "dcc7e4bd-db4a-4fd9-f745-48b7f711a35a"
      },
      "execution_count": null,
      "outputs": [
        {
          "output_type": "stream",
          "name": "stdout",
          "text": [
            "dict_keys(['title', 'no_of_students', 'location'])\n",
            "dict_values(['python class of PP02 batch', 25, 'IICT,SUST'])\n",
            "dict_items([('title', 'python class of PP02 batch'), ('no_of_students', 25), ('location', 'IICT,SUST')])\n"
          ]
        }
      ]
    },
    {
      "cell_type": "code",
      "source": [
        "for value in PP02_dict.values():\n",
        "  print(f\"{value}\")"
      ],
      "metadata": {
        "colab": {
          "base_uri": "https://localhost:8080/"
        },
        "id": "jss0JS_k3EFg",
        "outputId": "99c1e831-8afa-4f33-ab06-297f2b607d1f"
      },
      "execution_count": null,
      "outputs": [
        {
          "output_type": "stream",
          "name": "stdout",
          "text": [
            "python class of PP02 batch\n",
            "25\n",
            "SUST\n",
            "pp02\n"
          ]
        }
      ]
    },
    {
      "cell_type": "code",
      "source": [
        "unq_set = {1, 2, 3, 4}\n",
        "print(unq_set, type(unq_set))\n",
        "my_set = set([\"a\",\"b\",\"c\",\"d\" ])\n",
        "print(my_set)"
      ],
      "metadata": {
        "id": "1RxKUMYn4kMf",
        "colab": {
          "base_uri": "https://localhost:8080/"
        },
        "outputId": "8714d36a-41dd-4f62-912a-c59b4cd54a14"
      },
      "execution_count": null,
      "outputs": [
        {
          "output_type": "stream",
          "name": "stdout",
          "text": [
            "{1, 2, 3, 4} <class 'set'>\n",
            "{'a', 'c', 'b', 'd'}\n"
          ]
        }
      ]
    },
    {
      "cell_type": "code",
      "source": [
        "my_set.add(\"e\")\n",
        "my_set\n",
        "my_set.update([\"f\",\"e\",\"h\"])\n",
        "my_set\n",
        "\n",
        "my_set.discard(\"e\")\n",
        "my_set"
      ],
      "metadata": {
        "colab": {
          "base_uri": "https://localhost:8080/"
        },
        "id": "E5scIqmKE4DF",
        "outputId": "ebb54e01-cba9-410b-b8dc-e3415dddb97f"
      },
      "execution_count": null,
      "outputs": [
        {
          "output_type": "execute_result",
          "data": {
            "text/plain": [
              "{'b', 'd', 'f', 'h'}"
            ]
          },
          "metadata": {},
          "execution_count": 28
        }
      ]
    },
    {
      "cell_type": "code",
      "source": [
        "A = {1,2,3}\n",
        "B = {3,4,5}\n",
        "\n",
        "A_union_B = A.union(B)\n",
        "print(A_union_B)"
      ],
      "metadata": {
        "colab": {
          "base_uri": "https://localhost:8080/"
        },
        "id": "FqI48KvGGr3E",
        "outputId": "8c79a5a7-c7be-48e6-dbf4-bd1146959d3b"
      },
      "execution_count": null,
      "outputs": [
        {
          "output_type": "stream",
          "name": "stdout",
          "text": [
            "{1, 2, 3, 4, 5}\n"
          ]
        }
      ]
    },
    {
      "cell_type": "code",
      "source": [
        "Student_name = (\" i am  dipto\")\n",
        "print(Student_name.capitalize())\n",
        "print(Student_name.strip())"
      ],
      "metadata": {
        "colab": {
          "base_uri": "https://localhost:8080/"
        },
        "id": "2mn_XDbEko-n",
        "outputId": "4456bd73-8752-45a9-d667-b5be663a03a3"
      },
      "execution_count": null,
      "outputs": [
        {
          "output_type": "stream",
          "name": "stdout",
          "text": [
            " i am  dipto\n",
            "i am  dipto\n"
          ]
        }
      ]
    },
    {
      "cell_type": "markdown",
      "source": [
        "student_name = (  'i  am  rimi ' )\n",
        "print(student_name.strip().capitalize())\n"
      ],
      "metadata": {
        "id": "1ztfOoCFneQY"
      }
    },
    {
      "cell_type": "code",
      "source": [
        "student_name = (  'i  am  rimi ' )\n",
        "print(student_name.strip().capitalize())\n"
      ],
      "metadata": {
        "colab": {
          "base_uri": "https://localhost:8080/"
        },
        "id": "EEor0ahEoT0P",
        "outputId": "d4e5593b-fb6d-40fd-e29a-cccba362a01b"
      },
      "execution_count": null,
      "outputs": [
        {
          "output_type": "stream",
          "name": "stdout",
          "text": [
            "I  am  rimi\n"
          ]
        }
      ]
    },
    {
      "cell_type": "code",
      "source": [
        "Name = ('Rimi')\n",
        "Marks = 89.95\n",
        "Class_room = 201\n",
        "print(type(Marks))\n",
        "print(type(Class_room))\n",
        "print(type(Marks))\n",
        "print((Marks),type(Marks))\n",
        "Marks_in_string = str(Marks)\n",
        "print(type(Marks_in_string))\n",
        "\n"
      ],
      "metadata": {
        "colab": {
          "base_uri": "https://localhost:8080/"
        },
        "id": "rGd5lbSUpJBm",
        "outputId": "3c1077f9-5e06-4143-a0e6-ce232a281efd"
      },
      "execution_count": null,
      "outputs": [
        {
          "output_type": "stream",
          "name": "stdout",
          "text": [
            "<class 'float'>\n",
            "<class 'int'>\n",
            "<class 'float'>\n",
            "89.95 <class 'float'>\n",
            "<class 'str'>\n"
          ]
        }
      ]
    },
    {
      "cell_type": "markdown",
      "source": [],
      "metadata": {
        "id": "3DyrnyiStv-x"
      }
    },
    {
      "cell_type": "code",
      "source": [
        "first_num = input(\"Enter the first number\")\n",
        "second_num = input(\"Enter the second number\")\n",
        "sum = int(first_num + second_num)\n",
        "print(sum)"
      ],
      "metadata": {
        "colab": {
          "base_uri": "https://localhost:8080/"
        },
        "id": "jN9FnsU3ths5",
        "outputId": "d55e24ba-98fc-4528-e4df-847b4d787f0b"
      },
      "execution_count": null,
      "outputs": [
        {
          "output_type": "stream",
          "name": "stdout",
          "text": [
            "Enter the first number20\n",
            "Enter the second number30\n",
            "2030\n"
          ]
        }
      ]
    },
    {
      "cell_type": "markdown",
      "source": [],
      "metadata": {
        "id": "pXXm4tqMtuLZ"
      }
    },
    {
      "cell_type": "code",
      "source": [
        "Number = int(input(\"Enter the subject numnber\"))\n",
        "if Number >=80 :\n",
        "  print(\"A+\")\n",
        "if Number >=75 and Number <=79:\n",
        "  print(\"A\")\n",
        "elif Number >=70 and Number <=75:\n",
        "  print(\"A-\")\n",
        "elif Number <=70:\n",
        "  print(\"fail\")"
      ],
      "metadata": {
        "colab": {
          "base_uri": "https://localhost:8080/"
        },
        "id": "KIuddUrzv9JS",
        "outputId": "3f289c42-bb6e-409e-9f87-23f718764980"
      },
      "execution_count": null,
      "outputs": [
        {
          "output_type": "stream",
          "name": "stdout",
          "text": [
            "Enter the subject numnber74\n",
            "A-\n"
          ]
        }
      ]
    },
    {
      "cell_type": "markdown",
      "source": [
        "[index]\n",
        "in value niye kaj kore\n",
        "enumerate function index value ke return kore"
      ],
      "metadata": {
        "id": "g2RWdSp62qej"
      }
    },
    {
      "cell_type": "code",
      "source": [
        "groceries = [\"Dal\",\"Rice\",\"onion\"]\n",
        "for item in groceries:\n",
        "  print(item)\n",
        "print(len(groceries))\n",
        "print(groceries[0])\n",
        "for index,item in enumerate(groceries):\n",
        "  if groceries[index] == \"Dal\":\n",
        "    groceries[index] = \"Lentil\"\n",
        "print(groceries)"
      ],
      "metadata": {
        "colab": {
          "base_uri": "https://localhost:8080/"
        },
        "id": "bWiQlo_B0ifq",
        "outputId": "fede6705-9129-425f-df43-c20ea77ce820"
      },
      "execution_count": null,
      "outputs": [
        {
          "output_type": "stream",
          "name": "stdout",
          "text": [
            "Dal\n",
            "Rice\n",
            "onion\n",
            "3\n",
            "Dal\n",
            "['Lentil', 'Rice', 'onion']\n"
          ]
        }
      ]
    },
    {
      "cell_type": "markdown",
      "source": [
        "Tuples are not changeable"
      ],
      "metadata": {
        "id": "54XByT955DCz"
      }
    },
    {
      "cell_type": "code",
      "source": [],
      "metadata": {
        "id": "aGwOFUDU5CsL"
      },
      "execution_count": null,
      "outputs": []
    },
    {
      "cell_type": "code",
      "source": [
        "a = 10\n",
        "b = 10.5\n",
        "print(a, b, sep=\" + \", end = \"\\n\")\n",
        "print('=', a+b)"
      ],
      "metadata": {
        "colab": {
          "base_uri": "https://localhost:8080/"
        },
        "id": "4h23S4Yy6N18",
        "outputId": "664b71ab-139e-48a1-e4dd-2a1fa725d115"
      },
      "execution_count": null,
      "outputs": [
        {
          "output_type": "stream",
          "name": "stdout",
          "text": [
            "10 + 10.5\n",
            "= 20.5\n"
          ]
        }
      ]
    },
    {
      "cell_type": "code",
      "source": [
        "print(\"rimi\\'s pen is red\")\n",
        "print(\"this is beautiful\")"
      ],
      "metadata": {
        "colab": {
          "base_uri": "https://localhost:8080/"
        },
        "id": "tjIJxe6y6eNl",
        "outputId": "ef879e25-4c23-462a-9dec-db7fe3556979"
      },
      "execution_count": null,
      "outputs": [
        {
          "output_type": "stream",
          "name": "stdout",
          "text": [
            "rimi's pen is red\n",
            "this is beautiful\n"
          ]
        }
      ]
    },
    {
      "cell_type": "code",
      "source": [
        "for i in range(3):\n",
        "  for j in range(3):\n",
        "     print(i,j, end=\" | \")\n",
        "  print()\n",
        "\n",
        "\n",
        "\n",
        "\n"
      ],
      "metadata": {
        "colab": {
          "base_uri": "https://localhost:8080/"
        },
        "id": "2jAdszMj8Wms",
        "outputId": "4a167b54-b75e-4ccf-8069-fff4b0c79a35"
      },
      "execution_count": null,
      "outputs": [
        {
          "output_type": "stream",
          "name": "stdout",
          "text": [
            "0 0 | 0 1 | 0 2 | \n",
            "1 0 | 1 1 | 1 2 | \n",
            "2 0 | 2 1 | 2 2 | \n"
          ]
        }
      ]
    },
    {
      "cell_type": "markdown",
      "source": [
        "\n",
        "\n",
        ">  top modules in pythonblockquote\n",
        "\n"
      ],
      "metadata": {
        "id": "jh3VTjOV8eS2"
      }
    },
    {
      "cell_type": "code",
      "source": [
        "from collections import Counter\n",
        "Fruit_list =['Mango','AppLe','Bannana','Mango','Jackfruit','Mango']\n",
        "Fruit_counts = Counter(Fruit_list)\n",
        "for item,count in Fruit_counts.item():\n",
        "  print( f\"{item}\":{Fruit_counts})\n",
        "Fruit_counts_dict = dict(Fruit_counts)\n",
        "print(Fruit_counts_dict)"
      ],
      "metadata": {
        "colab": {
          "base_uri": "https://localhost:8080/",
          "height": 106
        },
        "id": "h0uC8VlO9ucm",
        "outputId": "a9dd34c5-cae8-4b29-db54-6a89a60dcd4a"
      },
      "execution_count": null,
      "outputs": [
        {
          "output_type": "error",
          "ename": "SyntaxError",
          "evalue": "invalid syntax (<ipython-input-3-81f590a36835>, line 5)",
          "traceback": [
            "\u001b[0;36m  File \u001b[0;32m\"<ipython-input-3-81f590a36835>\"\u001b[0;36m, line \u001b[0;32m5\u001b[0m\n\u001b[0;31m    print( f\"{item}\":{Fruit_counts})\u001b[0m\n\u001b[0m                    ^\u001b[0m\n\u001b[0;31mSyntaxError\u001b[0m\u001b[0;31m:\u001b[0m invalid syntax\n"
          ]
        }
      ]
    },
    {
      "cell_type": "code",
      "source": [],
      "metadata": {
        "id": "36py-JYcJulJ"
      },
      "execution_count": null,
      "outputs": []
    },
    {
      "cell_type": "markdown",
      "source": [],
      "metadata": {
        "id": "_Z31MqJl8i5E"
      }
    },
    {
      "cell_type": "code",
      "source": [
        "def average(grades):\n",
        "    return sum(grades) / len(grades)\n",
        "\n",
        "def determine_pass_fail(average):\n",
        "    return \"Pass\" if average >= 60 else \"Fail\"\n",
        "def find_highest_lowest(grades):\n",
        "    return max(grades), min(grades)\n",
        "\n",
        "def main():\n",
        "    num_students = int(input(\"How many students? \"))\n",
        "    students = []\n",
        "    for _ in range(num_students):\n",
        "        name = input(\"\\nEnter the student's name: \")\n",
        "        grades = list(map(float, input(\"Enter at least 3 grades separated by spaces: \").split()))\n",
        "        if len(grades) < 3:\n",
        "            print(\"Error: Please enter at least 3 grades.\")\n",
        "            return\n",
        "        students.append({\"name\": name, \"grades\": grades})\n",
        "    print(\"\\nStudent Grade Analysis:\")\n",
        "    for student in students:\n",
        "        name = student[\"name\"]\n",
        "        grades = student[\"grades\"]\n",
        "        avg = average(grades)\n",
        "        status = determine_pass_fail(avg)\n",
        "        highest, lowest = find_highest_lowest(grades)\n",
        "        print(f\"\\nName: {name}\")\n",
        "        print(f\"Average Grade: {avg:.2f}\")\n",
        "        print(f\"Pass/Fail: {status}\")\n",
        "        print(f\"Highest Grade: {highest}\")\n",
        "        print(f\"Lowest Grade: {lowest}\")\n",
        "    if __name__ == \"__main__\":\n",
        "     main()"
      ],
      "metadata": {
        "id": "g0DxfCr6MY40"
      },
      "execution_count": null,
      "outputs": []
    },
    {
      "cell_type": "code",
      "source": [
        "def calculate_average(grades):\n",
        "\n",
        "    return sum(grades) / len(grades)\n",
        "\n",
        "def determine_pass_fail(average):\n",
        "\n",
        "    return \"Pass\" if average >= 60 else \"Fail\"\n",
        "\n",
        "def find_highest_lowest(grades):\n",
        "\n",
        "    return max(grades), min(grades)\n",
        "\n",
        "def main():\n",
        "\n",
        "    num_students = int(input(\"Enter the number of students: \"))\n",
        "    students = []\n",
        "\n",
        "\n",
        "    for _ in range(num_students):\n",
        "        name = input(\"\\nEnter the student's name: \")\n",
        "        grades = list(map(float, input(\"Enter at least 3 grades separated by spaces: \").split()))\n",
        "\n",
        "        if len(grades) < 3:\n",
        "            print(\"Error: Please enter at least 3 grades.\")\n",
        "            return\n",
        "\n",
        "        students.append({\"name\": name, \"grades\": grades})\n",
        "\n",
        "\n",
        "    print(\"\\nStudent Grade Analysis:\")\n",
        "    for student in students:\n",
        "        name = student[\"name\"]\n",
        "        grades = student[\"grades\"]\n",
        "        avg = calculate_average(grades)\n",
        "        status = determine_pass_fail(avg)\n",
        "        highest, lowest = find_highest_lowest(grades)\n",
        "\n",
        "\n",
        "        print(f\"\\nName: {name}\")\n",
        "        print(f\"Average Grade: {avg:.2f}\")\n",
        "        print(f\"Pass/Fail: {status}\")\n",
        "        print(f\"Highest Grade: {highest}\")\n",
        "        print(f\"Lowest Grade: {lowest}\")\n",
        "\n",
        "\n",
        "if __name__ == \"__main__\":\n",
        "    main()\n"
      ],
      "metadata": {
        "colab": {
          "base_uri": "https://localhost:8080/"
        },
        "id": "3PXtq_esRdUq",
        "outputId": "27a13f56-87f6-4d31-a8b8-39415d048e29"
      },
      "execution_count": null,
      "outputs": [
        {
          "output_type": "stream",
          "name": "stdout",
          "text": [
            "Enter the number of students: 2\n",
            "\n",
            "Enter the student's name: Rimi\n",
            "Enter at least 3 grades separated by spaces: 90 89 80\n",
            "\n",
            "Enter the student's name: Naeem \n",
            "Enter at least 3 grades separated by spaces: 87 89 76\n",
            "\n",
            "Student Grade Analysis:\n",
            "\n",
            "Name: Rimi\n",
            "Average Grade: 86.33\n",
            "Pass/Fail: Pass\n",
            "Highest Grade: 90.0\n",
            "Lowest Grade: 80.0\n",
            "\n",
            "Name: Naeem \n",
            "Average Grade: 84.00\n",
            "Pass/Fail: Pass\n",
            "Highest Grade: 89.0\n",
            "Lowest Grade: 76.0\n"
          ]
        }
      ]
    },
    {
      "cell_type": "code",
      "source": [
        "Marks = [80,78,79.70]\n",
        "average = sum(Marks)/len(Marks)\n",
        "print(average)\n",
        "def pass_fail(average):\n",
        "  return \"pass\" if (average)>=60 else \"fail\"\n",
        "for i in Marks:\n",
        "  status = pass_fail(average)\n",
        "print(f\"pass_fail:{status}\")"
      ],
      "metadata": {
        "colab": {
          "base_uri": "https://localhost:8080/"
        },
        "id": "SLFtJo2QVEAb",
        "outputId": "eff64eb5-4bc5-4d2c-96c3-5fd5a68fc72f"
      },
      "execution_count": null,
      "outputs": [
        {
          "output_type": "stream",
          "name": "stdout",
          "text": [
            "79.23333333333333\n",
            "pass_fail:pass\n"
          ]
        }
      ]
    },
    {
      "cell_type": "code",
      "source": [],
      "metadata": {
        "id": "20p3ihK9HoIS"
      },
      "execution_count": null,
      "outputs": []
    },
    {
      "cell_type": "code",
      "source": [
        "Fruits_input = input(\"Input the Fruits in the list\")\n",
        "Fruits = Fruits_input.split()\n",
        "type(Fruits),len(Fruits)\n",
        "Fruits_counts = {}\n",
        "for Fruit in Fruits:\n",
        "  if Fruit in Fruits_counts:\n",
        "    Fruits_counts[Fruit] += 1\n",
        "  else:\n",
        "    Fruits_counts[Fruit] = 1\n",
        "Fruits_counts"
      ],
      "metadata": {
        "colab": {
          "base_uri": "https://localhost:8080/"
        },
        "id": "kOdIVC-yJwXh",
        "outputId": "c48d7b36-f910-4fff-e4f8-6bbae3386d99"
      },
      "execution_count": null,
      "outputs": [
        {
          "name": "stdout",
          "output_type": "stream",
          "text": [
            "Input the Fruits in the listMango orange\n"
          ]
        },
        {
          "output_type": "execute_result",
          "data": {
            "text/plain": [
              "{'Mango': 1, 'orange': 1}"
            ]
          },
          "metadata": {},
          "execution_count": 8
        }
      ]
    },
    {
      "cell_type": "markdown",
      "source": [
        "sum("
      ],
      "metadata": {
        "id": "GGRoXQxROIRB"
      }
    },
    {
      "cell_type": "code",
      "source": [
        "def swap_values():\n",
        "  a = input(\"Enter first value\")\n",
        "  b = input(\"Enter Second value\")\n",
        "  return (b,a)\n",
        "result = swap_values()\n",
        "print(f\"Swapping a and b: {result}\")"
      ],
      "metadata": {
        "colab": {
          "base_uri": "https://localhost:8080/"
        },
        "id": "sJ8qwYPUOkOK",
        "outputId": "788e199d-367d-439d-a190-7ca56082a93a"
      },
      "execution_count": null,
      "outputs": [
        {
          "output_type": "stream",
          "name": "stdout",
          "text": [
            "Enter first value1\n",
            "Enter Second value2\n",
            "Swapping a and b: ('2', '1')\n"
          ]
        }
      ]
    },
    {
      "cell_type": "code",
      "source": [
        "def reverse_string(s) :\n",
        "  return s [::-1]\n",
        "string = [\"Hello\"]\n",
        "for s in string:\n",
        "  reversed_str = reverse_string(s)\n",
        "  print(reversed_str)\n"
      ],
      "metadata": {
        "colab": {
          "base_uri": "https://localhost:8080/"
        },
        "id": "flecCOKYRsdC",
        "outputId": "3756973c-2d35-4d78-923f-3041019ab893"
      },
      "execution_count": null,
      "outputs": [
        {
          "output_type": "stream",
          "name": "stdout",
          "text": [
            "olleH\n"
          ]
        }
      ]
    },
    {
      "cell_type": "code",
      "source": [
        "def reverse_string(s):\n",
        "\n",
        "    return s[::-1]\n",
        "\n",
        "\n",
        "string = [\"Hello\"]\n",
        "\n",
        "for s in string:\n",
        "    reversed_str = reverse_string(s)"
      ],
      "metadata": {
        "colab": {
          "base_uri": "https://localhost:8080/"
        },
        "id": "lfCIONQQYovD",
        "outputId": "d401a5df-812b-42ab-a4fa-f71a83a7ff54"
      },
      "execution_count": null,
      "outputs": [
        {
          "output_type": "stream",
          "name": "stdout",
          "text": [
            "olleH\n"
          ]
        }
      ]
    },
    {
      "cell_type": "markdown",
      "source": [
        "Replacement Proggrame need import re"
      ],
      "metadata": {
        "id": "iQju62hCY-xL"
      }
    },
    {
      "cell_type": "code",
      "source": [
        "import re\n",
        "Name = \"Rimi is from Bogura\"\n",
        "Rafah= \"Rafah is from Pabna\"\n",
        "Place =r\"Bogura\"\n",
        "if re.search(Place,Name):\n",
        "  print(\"she is from Bogura\")\n",
        "else:\n",
        "  print(\"He/she is from somewhere else\")"
      ],
      "metadata": {
        "colab": {
          "base_uri": "https://localhost:8080/"
        },
        "id": "-zPJ3mpFZQCj",
        "outputId": "ed0e25c3-ddbf-48a3-dc98-162aca3e2b9f"
      },
      "execution_count": null,
      "outputs": [
        {
          "output_type": "stream",
          "name": "stdout",
          "text": [
            "she is from Bogura\n"
          ]
        }
      ]
    },
    {
      "cell_type": "code",
      "source": [
        "txt = \"Hello,World\"\n",
        "start__pattern = r\"^Hello\"\n",
        "end_pattern = r\"world$\"\n",
        "start_end_pattern = r"
      ],
      "metadata": {
        "id": "gtVUjxnJbsaL"
      },
      "execution_count": null,
      "outputs": []
    },
    {
      "cell_type": "code",
      "source": [],
      "metadata": {
        "id": "iyjtoW5NbeAK"
      },
      "execution_count": null,
      "outputs": []
    }
  ]
}