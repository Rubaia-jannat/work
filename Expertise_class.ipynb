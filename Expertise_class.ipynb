{
  "nbformat": 4,
  "nbformat_minor": 0,
  "metadata": {
    "colab": {
      "provenance": [],
      "authorship_tag": "ABX9TyMKcguIi0S5IH5ylyggdI2j",
      "include_colab_link": true
    },
    "kernelspec": {
      "name": "python3",
      "display_name": "Python 3"
    },
    "language_info": {
      "name": "python"
    }
  },
  "cells": [
    {
      "cell_type": "markdown",
      "metadata": {
        "id": "view-in-github",
        "colab_type": "text"
      },
      "source": [
        "<a href=\"https://colab.research.google.com/github/Rubaia-jannat/work/blob/main/Expertise_class.ipynb\" target=\"_parent\"><img src=\"https://colab.research.google.com/assets/colab-badge.svg\" alt=\"Open In Colab\"/></a>"
      ]
    },
    {
      "cell_type": "code",
      "execution_count": null,
      "metadata": {
        "colab": {
          "base_uri": "https://localhost:8080/"
        },
        "id": "J_AO0QRjzYsp",
        "outputId": "a0bc0338-56c6-4cdb-f132-6e95f9cbab6c"
      },
      "outputs": [
        {
          "output_type": "stream",
          "name": "stdout",
          "text": [
            "1\n",
            "8\n"
          ]
        }
      ],
      "source": [
        "# prompt: Write a generator expression to create cubes of numbers from 1 to 5\n",
        "\n",
        "cubes = (x**3 for x in range(1, 6))\n",
        "print(next(cubes))\n",
        "print(next(cubes))\n"
      ]
    },
    {
      "cell_type": "code",
      "source": [
        "with open(\"example.txt\", \"a\") as file:\n",
        "  file.write(\"\\nAppending new content!\")"
      ],
      "metadata": {
        "id": "53-hth2Kz8oG"
      },
      "execution_count": null,
      "outputs": []
    },
    {
      "cell_type": "code",
      "source": [
        "with open(\"example.txt\", \"w\") as file:\n",
        "    file.write(\"Hello, File Handling!\")\n",
        "\n",
        "# Reading from a file\n",
        "with open(\"example.txt\", \"r\") as file:\n",
        "    content = file.read()\n",
        "    print(content)  # Output: Hello, File Handling!"
      ],
      "metadata": {
        "colab": {
          "base_uri": "https://localhost:8080/"
        },
        "id": "tSb2OqENH1-o",
        "outputId": "195aa0cf-6d20-4c63-d1f8-5497955052ca"
      },
      "execution_count": null,
      "outputs": [
        {
          "output_type": "stream",
          "name": "stdout",
          "text": [
            "Hello, File Handling!\n"
          ]
        }
      ]
    },
    {
      "cell_type": "code",
      "source": [
        "from google.colab import drive\n",
        "drive.mount('/content/drive')"
      ],
      "metadata": {
        "id": "Aoj1ovxNLSMh"
      },
      "execution_count": null,
      "outputs": []
    },
    {
      "cell_type": "code",
      "source": [
        "import os\n",
        "os.mkdir(\"new_directory\")\n",
        "\n",
        "# Change the current working directory\n",
        "os.chdir(\"new_directory\")\n",
        "print(\"Current Directory:\", os.getcwd())\n",
        "\n",
        "# Delete the directory\n",
        "os.chdir(\"..\")\n",
        "os.rmdir(\"new_directory\")"
      ],
      "metadata": {
        "colab": {
          "base_uri": "https://localhost:8080/"
        },
        "id": "BYkPUw8GL2ZE",
        "outputId": "9372ab51-4b8b-41af-9855-d8789be7d803"
      },
      "execution_count": null,
      "outputs": [
        {
          "output_type": "stream",
          "name": "stdout",
          "text": [
            "Current Directory: /content/new_directory\n"
          ]
        }
      ]
    },
    {
      "cell_type": "code",
      "source": [
        "import os\n",
        "\n",
        "# 1. Create a directory called \"test_dir\"\n",
        "directory_name = \"test_dir\"\n",
        "if not os.path.exists(directory_name):\n",
        "    os.mkdir(directory_name)\n",
        "    print(f\"Directory '{directory_name}' created.\")\n",
        "else:\n",
        "    print(f\"Directory '{directory_name}' already exists.\")\n",
        "\n",
        "# 2. Create a file inside the directory called \"test_file.txt\" and write \"Hello, Python!\"\n",
        "file_name = os.path.join(directory_name, \"test_file.txt\")\n",
        "with open(file_name, \"w\") as file:\n",
        "    file.write(\"Hello, Python!\")\n",
        "    print(f\"File '{file_name}' created and data written.\")\n",
        "\n",
        "# 3. Read the content back and print it\n",
        "with open(file_name, \"r\") as file:\n",
        "    content = file.read()\n",
        "    print(f\"Content of '{file_name}': {content}\")\n",
        "\n",
        "# 4. Delete the file and the directory\n",
        "os.remove(file_name)\n",
        "print(f\"File '{file_name}' removed.\")\n",
        "\n",
        "os.rmdir(directory_name)\n",
        "print(f\"Directory '{directory_name}' removed.\")\n"
      ],
      "metadata": {
        "id": "pt29nt0yOYaB",
        "outputId": "18225a56-46df-4606-e8c2-f61eca8c55b7",
        "colab": {
          "base_uri": "https://localhost:8080/"
        }
      },
      "execution_count": null,
      "outputs": [
        {
          "output_type": "stream",
          "name": "stdout",
          "text": [
            "Directory 'test_dir' created.\n",
            "File 'test_dir/test_file.txt' created and data written.\n",
            "Content of 'test_dir/test_file.txt': Hello, Python!\n",
            "File 'test_dir/test_file.txt' removed.\n",
            "Directory 'test_dir' removed.\n"
          ]
        }
      ]
    },
    {
      "cell_type": "code",
      "source": [
        "import numpy as np\n",
        "zeros = np.zeros((2, 3))\n",
        "ones = np.ones((3, 3))\n",
        "print(zeros)\n",
        "print(ones)\n",
        "tens =np.full((2,3),100)\n",
        "print(tens)\n"
      ],
      "metadata": {
        "colab": {
          "base_uri": "https://localhost:8080/"
        },
        "id": "XVEKgtHTY74p",
        "outputId": "ebaecd05-89a4-4f44-e0a0-3cb8ad0e38df"
      },
      "execution_count": null,
      "outputs": [
        {
          "output_type": "stream",
          "name": "stdout",
          "text": [
            "[[0. 0. 0.]\n",
            " [0. 0. 0.]]\n",
            "[[1. 1. 1.]\n",
            " [1. 1. 1.]\n",
            " [1. 1. 1.]]\n",
            "[[100 100 100]\n",
            " [100 100 100]]\n"
          ]
        }
      ]
    },
    {
      "cell_type": "code",
      "source": [
        "a = np.array ([[2,3,4],[7,8,9]])\n",
        "b = np.array([[4,9,8],[7,5,4]])\n",
        "print(a+b)\n",
        "print(a*b)\n",
        "b_transposed = b.T\n",
        "print(b_transposed)\n",
        "print (np.dot(a,b_transposed))"
      ],
      "metadata": {
        "colab": {
          "base_uri": "https://localhost:8080/"
        },
        "id": "s0GVHSkIaQNR",
        "outputId": "1f98a0a7-0ede-4d1f-e148-babb79a2e3d7"
      },
      "execution_count": null,
      "outputs": [
        {
          "output_type": "stream",
          "name": "stdout",
          "text": [
            "[[ 6 12 12]\n",
            " [14 13 13]]\n",
            "[[ 8 27 32]\n",
            " [49 40 36]]\n",
            "[[4 7]\n",
            " [9 5]\n",
            " [8 4]]\n",
            "[[ 67  45]\n",
            " [172 125]]\n"
          ]
        }
      ]
    },
    {
      "cell_type": "code",
      "source": [
        "# prompt: Create a 2D NumPy array of random integers between 1 and 50.\n",
        "# Perform the following:\n",
        "# Find the mean of all elements.\n",
        "# Transpose the array.\n",
        "# Sort the array along rows.\n",
        "# Extract all elements greater than 25.\n",
        "# Perform matrix multiplication between the original and transposed array.\n",
        "\n",
        "import numpy as np\n",
        "\n",
        "# Create a 2D NumPy array of random integers between 1 and 50\n",
        "array_2d = np.random.randint(1, 51, size=(5, 5))  # Example: 5x5 array\n",
        "\n",
        "# Find the mean of all elements\n",
        "mean_value = np.mean(array_2d)\n",
        "print(\"Mean of all elements:\", mean_value)\n",
        "\n",
        "# Transpose the array\n",
        "transposed_array = array_2d.T\n",
        "print(\"\\nTransposed array:\\n\", transposed_array)\n",
        "\n",
        "# Sort the array along rows\n",
        "sorted_array = np.sort(array_2d, axis=1)\n",
        "print(\"\\nSorted array along rows:\\n\", sorted_array)\n",
        "\n",
        "# Extract all elements greater than 25\n",
        "elements_greater_than_25 = array_2d[array_2d > 25]\n",
        "print(\"\\nElements greater than 25:\\n\", elements_greater_than_25)\n",
        "\n",
        "# Perform matrix multiplication between the original and transposed array\n",
        "matrix_product = np.dot(array_2d, transposed_array)\n",
        "print(\"\\nMatrix product of the original and transposed array:\\n\", matrix_product)"
      ],
      "metadata": {
        "colab": {
          "base_uri": "https://localhost:8080/"
        },
        "id": "2gMnANgFh4vK",
        "outputId": "ef4cd0a9-484d-4249-c635-4f274da3cb40"
      },
      "execution_count": null,
      "outputs": [
        {
          "output_type": "stream",
          "name": "stdout",
          "text": [
            "Mean of all elements: 26.72\n",
            "\n",
            "Transposed array:\n",
            " [[22 41 25 20  6]\n",
            " [18 40 48  9 50]\n",
            " [46 29 15 15 36]\n",
            " [15  8 27 19 39]\n",
            " [37 28 23 12 40]]\n",
            "\n",
            "Sorted array along rows:\n",
            " [[15 18 22 37 46]\n",
            " [ 8 28 29 40 41]\n",
            " [15 23 25 27 48]\n",
            " [ 9 12 15 19 20]\n",
            " [ 6 36 39 40 50]]\n",
            "\n",
            "Elements greater than 25:\n",
            " [46 37 41 40 29 28 48 27 50 36 39 40]\n",
            "\n",
            "Matrix product of the original and transposed array:\n",
            " [[4518 4112 3360 2021 4753]\n",
            " [4112 4970 4240 2103 4722]\n",
            " [3360 4240 4412 1946 5063]\n",
            " [2021 2103 1946 1211 2331]\n",
            " [4753 4722 5063 2331 6953]]\n"
          ]
        }
      ]
    },
    {
      "cell_type": "code",
      "source": [
        "# prompt: Create a 2D NumPy array of shape (4, 5) with random integers between 10 and 60.\n",
        "# Perform the following operations:\n",
        "# Extract the first two rows.\n",
        "# Extract all elements in the last column.\n",
        "# Replace all elements greater than 30 with 0.\n",
        "# Calculate the sum of all elements in the array after replacement.\n",
        "# Find the mean of each row.\n",
        "# Add another row\n",
        "# Print the result after each step\n",
        "\n",
        "import numpy as np\n",
        "\n",
        "# Create a 2D NumPy array of shape (4, 5) with random integers between 10 and 60\n",
        "array_2d = np.random.randint(10, 61, size=(4, 5))\n",
        "print(\"Original array:\\n\", array_2d)\n",
        "\n",
        "# Extract the first two rows\n",
        "first_two_rows = array_2d[:2, :]\n",
        "print(\"\\nFirst two rows:\\n\", first_two_rows)\n",
        "\n",
        "# Extract all elements in the last column\n",
        "last_column = array_2d[:, -1]\n",
        "print(\"\\nLast column:\\n\", last_column)\n",
        "\n",
        "# Replace all elements greater than 30 with 0\n",
        "array_2d[array_2d > 30] = 0\n",
        "print(\"\\nArray after replacing elements > 30 with 0:\\n\", array_2d)\n",
        "\n",
        "# Calculate the sum of all elements in the array after replacement\n",
        "sum_of_elements = np.sum(array_2d)\n",
        "print(\"\\nSum of all elements after replacement:\\n\", sum_of_elements)\n",
        "\n",
        "# Find the mean of each row\n",
        "row_means = np.mean(array_2d, axis=1)\n",
        "print(\"\\nMean of each row:\\n\", row_means)\n",
        "\n",
        "# Add another row (e.g., a row of ones)\n",
        "new_row = np.ones(5, dtype=int)\n",
        "array_2d = np.vstack((array_2d, new_row))\n",
        "print(\"\\nArray after adding a new row:\\n\", array_2d)"
      ],
      "metadata": {
        "colab": {
          "base_uri": "https://localhost:8080/"
        },
        "id": "2TrpYBy2jm-Q",
        "outputId": "4d48066d-a7fa-489c-819c-3b47b2174584"
      },
      "execution_count": null,
      "outputs": [
        {
          "output_type": "stream",
          "name": "stdout",
          "text": [
            "Original array:\n",
            " [[51 12 31 36 57]\n",
            " [59 23 40 49 49]\n",
            " [52 32 52 25 34]\n",
            " [51 10 13 32 44]]\n",
            "\n",
            "First two rows:\n",
            " [[51 12 31 36 57]\n",
            " [59 23 40 49 49]]\n",
            "\n",
            "Last column:\n",
            " [57 49 34 44]\n",
            "\n",
            "Array after replacing elements > 30 with 0:\n",
            " [[ 0 12  0  0  0]\n",
            " [ 0 23  0  0  0]\n",
            " [ 0  0  0 25  0]\n",
            " [ 0 10 13  0  0]]\n",
            "\n",
            "Sum of all elements after replacement:\n",
            " 83\n",
            "\n",
            "Mean of each row:\n",
            " [2.4 4.6 5.  4.6]\n",
            "\n",
            "Array after adding a new row:\n",
            " [[ 0 12  0  0  0]\n",
            " [ 0 23  0  0  0]\n",
            " [ 0  0  0 25  0]\n",
            " [ 0 10 13  0  0]\n",
            " [ 1  1  1  1  1]]\n"
          ]
        }
      ]
    },
    {
      "cell_type": "code",
      "source": [
        "# prompt: Write a regex to match a 5-digit zip code.\n",
        "# Example: \"90210\" should match.\n",
        "\n",
        "import re\n",
        "\n",
        "def is_valid_zip(zip_code):\n",
        "  \"\"\"\n",
        "  Checks if the given string is a valid 5-digit zip code using a regular expression.\n",
        "\n",
        "  Args:\n",
        "    zip_code: The string to check.\n",
        "\n",
        "  Returns:\n",
        "    True if the string is a valid 5-digit zip code, False otherwise.\n",
        "  \"\"\"\n",
        "  pattern = r\"^\\d{5}$\"  # Matches exactly 5 digits\n",
        "  match = re.match(pattern, zip_code)\n",
        "  return bool(match)\n",
        "\n",
        "# Example usage\n",
        "zip_code = \"90210\"\n",
        "if is_valid_zip(zip_code):\n",
        "  print(f\"'{zip_code}' is a valid 5-digit zip code.\")\n",
        "else:\n",
        "  print(f\"'{zip_code}' is not a valid 5-digit zip code.\")\n",
        "\n",
        "zip_code = \"90210-1234\"  # Example of an invalid zip code\n",
        "if is_valid_zip(zip_code):\n",
        "  print(f\"'{zip_code}' is a valid 5-digit zip code.\")\n",
        "else:\n",
        "  print(f\"'{zip_code}' is not a valid 5-digit zip code.\")"
      ],
      "metadata": {
        "colab": {
          "base_uri": "https://localhost:8080/"
        },
        "id": "mRfoPj9prAmd",
        "outputId": "3162105f-c76c-45f8-93cf-9e13bdc2ac9c"
      },
      "execution_count": null,
      "outputs": [
        {
          "output_type": "stream",
          "name": "stdout",
          "text": [
            "'90210' is a valid 5-digit zip code.\n",
            "'90210-1234' is not a valid 5-digit zip code.\n"
          ]
        }
      ]
    }
  ]
}