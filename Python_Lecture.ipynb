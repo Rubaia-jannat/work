{
  "nbformat": 4,
  "nbformat_minor": 0,
  "metadata": {
    "colab": {
      "provenance": [],
      "authorship_tag": "ABX9TyPrG30floJmXpSbDIQKsShF",
      "include_colab_link": true
    },
    "kernelspec": {
      "name": "python3",
      "display_name": "Python 3"
    },
    "language_info": {
      "name": "python"
    }
  },
  "cells": [
    {
      "cell_type": "markdown",
      "metadata": {
        "id": "view-in-github",
        "colab_type": "text"
      },
      "source": [
        "<a href=\"https://colab.research.google.com/github/Rubaia-jannat/work/blob/main/Python_Lecture.ipynb\" target=\"_parent\"><img src=\"https://colab.research.google.com/assets/colab-badge.svg\" alt=\"Open In Colab\"/></a>"
      ]
    },
    {
      "cell_type": "code",
      "execution_count": null,
      "metadata": {
        "colab": {
          "base_uri": "https://localhost:8080/"
        },
        "id": "JH6ZTY9j3VZG",
        "outputId": "4356be92-39d1-476e-9c4d-31b6a9d9d932"
      },
      "outputs": [
        {
          "output_type": "stream",
          "name": "stdout",
          "text": [
            "Hello World\n"
          ]
        }
      ],
      "source": [
        "print(\"Hello World\")\n"
      ]
    },
    {
      "cell_type": "code",
      "source": [
        "student_name = '  Rimi'\n",
        "print(\"Hello\",student_name)\n",
        "print(\"Hello\",student_name.capitalize())\n",
        "print(\"Hello\",student_name.strip())"
      ],
      "metadata": {
        "colab": {
          "base_uri": "https://localhost:8080/"
        },
        "id": "l-i0bMwp38ag",
        "outputId": "1c554b00-e8c0-439f-f063-58cff5fd56a4"
      },
      "execution_count": null,
      "outputs": [
        {
          "output_type": "stream",
          "name": "stdout",
          "text": [
            "Hello   Rimi\n",
            "Hello   rimi\n",
            "Hello Rimi\n"
          ]
        }
      ]
    },
    {
      "cell_type": "code",
      "source": [
        "print(\"Hello,student_name\")"
      ],
      "metadata": {
        "colab": {
          "base_uri": "https://localhost:8080/"
        },
        "id": "B2eaGonJ4MjH",
        "outputId": "b3343f7f-0b13-4f4c-d9c0-f82dc9b83170"
      },
      "execution_count": null,
      "outputs": [
        {
          "output_type": "stream",
          "name": "stdout",
          "text": [
            "Hello,student_name\n"
          ]
        }
      ]
    },
    {
      "cell_type": "code",
      "source": [
        "student_name = '  Rimi'\n",
        "print(student_name.strip().capitalize())"
      ],
      "metadata": {
        "colab": {
          "base_uri": "https://localhost:8080/"
        },
        "id": "SIANPgqF7ciX",
        "outputId": "fa7dccf5-7626-4a09-d4a5-d54e115164cd"
      },
      "execution_count": null,
      "outputs": [
        {
          "output_type": "stream",
          "name": "stdout",
          "text": [
            "Rimi\n"
          ]
        }
      ]
    },
    {
      "cell_type": "code",
      "source": [
        "raneij = 5"
      ],
      "metadata": {
        "id": "GkCTxvhqX6LP"
      },
      "execution_count": null,
      "outputs": []
    },
    {
      "cell_type": "code",
      "source": [
        "rangeij = 5\n",
        "for i in range(rangeij):\n",
        "  for j in range(rangeij):\n",
        "    print(end=\" \")\n",
        "  if i >= j:\n",
        "    print(\" * \",end=\"\")\n",
        "  if i <j:\n",
        "     print(\"*\",end=\"\")\n",
        "else:\n",
        "  print(\"_\",end=\"\")\n",
        "print()"
      ],
      "metadata": {
        "colab": {
          "base_uri": "https://localhost:8080/"
        },
        "id": "0_mWU-qOYPA3",
        "outputId": "9f7fb30b-33af-4f4f-dbd9-b474fbc92396"
      },
      "execution_count": null,
      "outputs": [
        {
          "output_type": "stream",
          "name": "stdout",
          "text": [
            "     *     *     *     *      * _\n"
          ]
        }
      ]
    },
    {
      "cell_type": "code",
      "source": [
        "a = 10\n",
        "b = 3\n",
        "a = a %=b\n",
        "a +"
      ],
      "metadata": {
        "id": "lFthhlFDd1gS"
      },
      "execution_count": null,
      "outputs": []
    },
    {
      "cell_type": "code",
      "source": [
        "a = 10\n",
        "b = 5\n",
        "if a!=b:\n",
        "  print(\"a is equal b\")"
      ],
      "metadata": {
        "colab": {
          "base_uri": "https://localhost:8080/"
        },
        "id": "ruBpGrPJePAJ",
        "outputId": "81928965-9c57-462a-e649-cb2c9aad3203"
      },
      "execution_count": null,
      "outputs": [
        {
          "output_type": "stream",
          "name": "stdout",
          "text": [
            "a is equal b\n"
          ]
        }
      ]
    },
    {
      "cell_type": "code",
      "source": [
        "a = 5.6\n",
        "a =int(a)\n",
        "print(a)"
      ],
      "metadata": {
        "colab": {
          "base_uri": "https://localhost:8080/"
        },
        "id": "NOhxz50Tfps6",
        "outputId": "d52ee8e2-e29d-45e9-9a05-438fcec369c6"
      },
      "execution_count": null,
      "outputs": [
        {
          "output_type": "stream",
          "name": "stdout",
          "text": [
            "5\n"
          ]
        }
      ]
    },
    {
      "cell_type": "code",
      "source": [
        "def get_name(): #header\n",
        " # body\n",
        " #...\n",
        " return \"Rimi\""
      ],
      "metadata": {
        "id": "9pKyhPkCf86p"
      },
      "execution_count": null,
      "outputs": []
    },
    {
      "cell_type": "code",
      "source": [
        "get_name()"
      ],
      "metadata": {
        "colab": {
          "base_uri": "https://localhost:8080/",
          "height": 35
        },
        "id": "5AR67so4g1xD",
        "outputId": "666c107d-a4d5-45b9-fde4-d59e4477b5de"
      },
      "execution_count": null,
      "outputs": [
        {
          "output_type": "execute_result",
          "data": {
            "text/plain": [
              "'Rimi'"
            ],
            "application/vnd.google.colaboratory.intrinsic+json": {
              "type": "string"
            }
          },
          "metadata": {},
          "execution_count": 11
        }
      ]
    },
    {
      "cell_type": "code",
      "source": [
        "def sum_ of_three(a,b,c):\n",
        "  sum_of_two = sum(a,b)\n",
        "  sum_of_all = sum()"
      ],
      "metadata": {
        "id": "Eo85FaNqh0xy"
      },
      "execution_count": null,
      "outputs": []
    },
    {
      "cell_type": "code",
      "source": [
        "def my_function():\n",
        "  Name = \"Rimi\"\n",
        "  Reg  = 2020136022\n",
        "  print(Name,Reg)\n",
        "  return(Name,Reg)"
      ],
      "metadata": {
        "id": "ukfSrMJMk1ED"
      },
      "execution_count": null,
      "outputs": []
    },
    {
      "cell_type": "code",
      "source": [
        "Student =my_function()\n",
        "print(Student)"
      ],
      "metadata": {
        "colab": {
          "base_uri": "https://localhost:8080/"
        },
        "id": "yrHWJp4Wm3ws",
        "outputId": "7b705ab0-33c8-4bf0-ed1c-596e9549de2a"
      },
      "execution_count": null,
      "outputs": [
        {
          "output_type": "stream",
          "name": "stdout",
          "text": [
            "Rimi 2020136022\n",
            "('Rimi', 2020136022)\n"
          ]
        }
      ]
    },
    {
      "cell_type": "code",
      "source": [
        "def Temperature_Data():\n",
        "  CTD_data = (20,22,30,40)\n",
        "  Place    = \"Kuakata\"\n",
        "  print(CTD_data,Place)\n",
        " # return(CTD_data,Place)\n"
      ],
      "metadata": {
        "id": "Qu-gXKJPopnc"
      },
      "execution_count": null,
      "outputs": []
    },
    {
      "cell_type": "code",
      "source": [
        "xyz = Temperature_Data()\n",
        "print(xyz)"
      ],
      "metadata": {
        "colab": {
          "base_uri": "https://localhost:8080/"
        },
        "id": "c3dY4yBLp29V",
        "outputId": "512a75a1-18ae-4b77-f866-14b4bf7bb2e0"
      },
      "execution_count": null,
      "outputs": [
        {
          "output_type": "stream",
          "name": "stdout",
          "text": [
            "(20, 22, 30, 40) Kuakata\n",
            "None\n"
          ]
        }
      ]
    },
    {
      "cell_type": "code",
      "source": [],
      "metadata": {
        "id": "JEWcP-HfoAcl"
      },
      "execution_count": null,
      "outputs": []
    },
    {
      "cell_type": "code",
      "source": [
        "Student = (my_function)\n",
        "print(my_function)"
      ],
      "metadata": {
        "colab": {
          "base_uri": "https://localhost:8080/"
        },
        "id": "hkebPkRXlumD",
        "outputId": "8f277165-77aa-484b-f1bb-fd43630de8e6"
      },
      "execution_count": null,
      "outputs": [
        {
          "output_type": "stream",
          "name": "stdout",
          "text": [
            "<function my_function at 0x7fe9f95f77f0>\n"
          ]
        }
      ]
    },
    {
      "cell_type": "code",
      "source": [
        "def sum_of_three(a,b,c):\n",
        "  sum_of_two = sum(a,b)\n",
        "  sum_of_all = sum(sum_of_two, c)\n",
        "  return(sum_of_all)"
      ],
      "metadata": {
        "id": "36ziPcvFifKP"
      },
      "execution_count": null,
      "outputs": []
    },
    {
      "cell_type": "code",
      "source": [
        "total_sum = sum_of_three(10,67,-89)\n",
        "print(total_sum)"
      ],
      "metadata": {
        "colab": {
          "base_uri": "https://localhost:8080/"
        },
        "id": "2ZA1rmSFjBRT",
        "outputId": "777c3fec-19f5-4d1c-e80b-acaef7a3eee1"
      },
      "execution_count": null,
      "outputs": [
        {
          "output_type": "stream",
          "name": "stdout",
          "text": [
            "-12\n"
          ]
        }
      ]
    },
    {
      "cell_type": "code",
      "source": [
        "def sum_ of_three(a,b,c):\n",
        "  sum_of_two = sum(a,b)\n",
        "  sum_of_all = sum(sum_of_two, c)\n",
        "  print()"
      ],
      "metadata": {
        "id": "grWu4f-yi0c0"
      },
      "execution_count": null,
      "outputs": []
    },
    {
      "cell_type": "code",
      "source": [
        "def sum(a,b):\n",
        "  print(a+b)\n",
        "#return(a+b)"
      ],
      "metadata": {
        "id": "KlxMt7GdhUYi"
      },
      "execution_count": null,
      "outputs": []
    },
    {
      "cell_type": "code",
      "source": [
        "sum(5,100)"
      ],
      "metadata": {
        "colab": {
          "base_uri": "https://localhost:8080/"
        },
        "id": "NbArnGHAhtDK",
        "outputId": "a4a22d83-0fe4-45f9-adb5-10c300bd8ab9"
      },
      "execution_count": null,
      "outputs": [
        {
          "output_type": "stream",
          "name": "stdout",
          "text": [
            "105\n"
          ]
        }
      ]
    },
    {
      "cell_type": "code",
      "source": [
        "x = (\"1,2,3\")\n",
        "print(x)"
      ],
      "metadata": {
        "colab": {
          "base_uri": "https://localhost:8080/"
        },
        "id": "8zkZHCJow4nm",
        "outputId": "a0b1ae96-0fa2-45fa-c0c3-6d1c9371b811"
      },
      "execution_count": null,
      "outputs": [
        {
          "output_type": "stream",
          "name": "stdout",
          "text": [
            "1,2,3\n"
          ]
        }
      ]
    },
    {
      "cell_type": "code",
      "source": [
        "Say = (\"we all hate books\")\n",
        "print(Say)"
      ],
      "metadata": {
        "colab": {
          "base_uri": "https://localhost:8080/"
        },
        "id": "QegNHkw6y392",
        "outputId": "1065ef0f-e0b8-4fb9-843b-6019abc4133c"
      },
      "execution_count": 1,
      "outputs": [
        {
          "output_type": "stream",
          "name": "stdout",
          "text": [
            "we all hate books\n"
          ]
        }
      ]
    },
    {
      "cell_type": "code",
      "source": [
        "return_val = sum(1,2)\n",
        "print(\"return_val\" , return_val)"
      ],
      "metadata": {
        "colab": {
          "base_uri": "https://localhost:8080/"
        },
        "id": "1VVkLaNw0KxH",
        "outputId": "fa4ef103-bd9c-475c-e815-870c9006d8a6"
      },
      "execution_count": null,
      "outputs": [
        {
          "output_type": "stream",
          "name": "stdout",
          "text": [
            "3\n",
            "return_val None\n"
          ]
        }
      ]
    },
    {
      "cell_type": "code",
      "source": [
        "def sum(a,b,c):\n",
        "  a=10\n",
        "  b=5\n",
        "  total = a+b+c\n",
        "  print(c)\n",
        "  return c"
      ],
      "metadata": {
        "id": "IQxH_bl22APP"
      },
      "execution_count": null,
      "outputs": []
    },
    {
      "cell_type": "code",
      "source": [
        "c=100\n",
        "Number = (total)\n",
        "print(Number)"
      ],
      "metadata": {
        "colab": {
          "base_uri": "https://localhost:8080/"
        },
        "id": "ydQq3pKr4_MI",
        "outputId": "ddf63e8c-f1ca-4045-a35a-39ca53a69dc8"
      },
      "execution_count": null,
      "outputs": [
        {
          "output_type": "stream",
          "name": "stdout",
          "text": [
            "(20, 30, 40)\n"
          ]
        }
      ]
    },
    {
      "cell_type": "code",
      "source": [
        "total =(\"c\")\n",
        "print(total)"
      ],
      "metadata": {
        "colab": {
          "base_uri": "https://localhost:8080/",
          "height": 159
        },
        "id": "_rnt9pq12pWO",
        "outputId": "f69ceecd-5e5e-46d2-9190-0cf873ead9fe"
      },
      "execution_count": null,
      "outputs": [
        {
          "output_type": "error",
          "ename": "NameError",
          "evalue": "name 'c' is not defined",
          "traceback": [
            "\u001b[0;31m---------------------------------------------------------------------------\u001b[0m",
            "\u001b[0;31mNameError\u001b[0m                                 Traceback (most recent call last)",
            "\u001b[0;32m<ipython-input-53-5fcd1a6f81d7>\u001b[0m in \u001b[0;36m<cell line: 1>\u001b[0;34m()\u001b[0m\n\u001b[0;32m----> 1\u001b[0;31m \u001b[0mtotal\u001b[0m \u001b[0;34m=\u001b[0m \u001b[0mc\u001b[0m\u001b[0;34m\u001b[0m\u001b[0;34m\u001b[0m\u001b[0m\n\u001b[0m\u001b[1;32m      2\u001b[0m \u001b[0mprint\u001b[0m\u001b[0;34m(\u001b[0m\u001b[0mtotal\u001b[0m\u001b[0;34m)\u001b[0m\u001b[0;34m\u001b[0m\u001b[0;34m\u001b[0m\u001b[0m\n",
            "\u001b[0;31mNameError\u001b[0m: name 'c' is not defined"
          ]
        }
      ]
    },
    {
      "cell_type": "code",
      "source": [
        "def sum_with_pi(a):\n",
        " c = a+pi\n",
        " print(f\"c = {c}\")"
      ],
      "metadata": {
        "id": "WtFM1Qb53wtA"
      },
      "execution_count": null,
      "outputs": []
    },
    {
      "cell_type": "code",
      "source": [
        "pi = 3.1416\n",
        "sum_with_pi(100)"
      ],
      "metadata": {
        "colab": {
          "base_uri": "https://localhost:8080/"
        },
        "id": "nQNwL_tt5sV3",
        "outputId": "b23fe0a4-5eb2-464a-c6a9-12cc9c19d0b5"
      },
      "execution_count": null,
      "outputs": [
        {
          "output_type": "stream",
          "name": "stdout",
          "text": [
            "c = 103.1416\n"
          ]
        }
      ]
    },
    {
      "cell_type": "code",
      "source": [
        "pi = 100\n",
        "sum_with_pi(20)"
      ],
      "metadata": {
        "colab": {
          "base_uri": "https://localhost:8080/"
        },
        "id": "zwXz338j6lCv",
        "outputId": "24c3f65d-4649-4a3d-a9fb-7b0982f9020c"
      },
      "execution_count": null,
      "outputs": [
        {
          "output_type": "stream",
          "name": "stdout",
          "text": [
            "c = 120\n"
          ]
        }
      ]
    },
    {
      "cell_type": "code",
      "source": [
        "def sum_of_range(start,end,jump)[]"
      ],
      "metadata": {
        "id": "YOxy2r5_8GFo"
      },
      "execution_count": null,
      "outputs": []
    },
    {
      "cell_type": "markdown",
      "source": [
        "keywords are not valid for any namimg"
      ],
      "metadata": {
        "id": "UG0Vfav59SqJ"
      }
    },
    {
      "cell_type": "code",
      "source": [
        "start = 1\n",
        "end = 20\n",
        "jump = 2\n",
        "\n",
        "for i in range(start, end, jump):\n",
        "    print(f\"The square of {i} is {i ** 2}\")\n"
      ],
      "metadata": {
        "id": "HFlShgGM9d24",
        "colab": {
          "base_uri": "https://localhost:8080/"
        },
        "outputId": "87f98626-df75-40d0-d108-36a5af54c9bb"
      },
      "execution_count": null,
      "outputs": [
        {
          "output_type": "stream",
          "name": "stdout",
          "text": [
            "The square of 1 is 1\n",
            "The square of 3 is 9\n",
            "The square of 5 is 25\n",
            "The square of 7 is 49\n",
            "The square of 9 is 81\n",
            "The square of 11 is 121\n",
            "The square of 13 is 169\n",
            "The square of 15 is 225\n",
            "The square of 17 is 289\n",
            "The square of 19 is 361\n"
          ]
        }
      ]
    },
    {
      "cell_type": "code",
      "source": [
        "def sum_of_the_numbers(a):\n",
        "    sum = 0\n",
        "    for number in range(1,1000,2):\n",
        "            sum += number\n",
        "\n",
        "            print(number)\n",
        "    return sum\n",
        "result = sum_of_the_numbers(20)\n",
        "print(f\"The sum of the numbers from 1 to 1000 is: {result}\")"
      ],
      "metadata": {
        "id": "X7a-9OYaotse",
        "outputId": "52123bfa-c5df-408f-c52a-43cc4d3a1581",
        "colab": {
          "base_uri": "https://localhost:8080/"
        }
      },
      "execution_count": null,
      "outputs": [
        {
          "output_type": "stream",
          "name": "stdout",
          "text": [
            "1\n",
            "3\n",
            "5\n",
            "7\n",
            "9\n",
            "11\n",
            "13\n",
            "15\n",
            "17\n",
            "19\n",
            "21\n",
            "23\n",
            "25\n",
            "27\n",
            "29\n",
            "31\n",
            "33\n",
            "35\n",
            "37\n",
            "39\n",
            "41\n",
            "43\n",
            "45\n",
            "47\n",
            "49\n",
            "51\n",
            "53\n",
            "55\n",
            "57\n",
            "59\n",
            "61\n",
            "63\n",
            "65\n",
            "67\n",
            "69\n",
            "71\n",
            "73\n",
            "75\n",
            "77\n",
            "79\n",
            "81\n",
            "83\n",
            "85\n",
            "87\n",
            "89\n",
            "91\n",
            "93\n",
            "95\n",
            "97\n",
            "99\n",
            "101\n",
            "103\n",
            "105\n",
            "107\n",
            "109\n",
            "111\n",
            "113\n",
            "115\n",
            "117\n",
            "119\n",
            "121\n",
            "123\n",
            "125\n",
            "127\n",
            "129\n",
            "131\n",
            "133\n",
            "135\n",
            "137\n",
            "139\n",
            "141\n",
            "143\n",
            "145\n",
            "147\n",
            "149\n",
            "151\n",
            "153\n",
            "155\n",
            "157\n",
            "159\n",
            "161\n",
            "163\n",
            "165\n",
            "167\n",
            "169\n",
            "171\n",
            "173\n",
            "175\n",
            "177\n",
            "179\n",
            "181\n",
            "183\n",
            "185\n",
            "187\n",
            "189\n",
            "191\n",
            "193\n",
            "195\n",
            "197\n",
            "199\n",
            "201\n",
            "203\n",
            "205\n",
            "207\n",
            "209\n",
            "211\n",
            "213\n",
            "215\n",
            "217\n",
            "219\n",
            "221\n",
            "223\n",
            "225\n",
            "227\n",
            "229\n",
            "231\n",
            "233\n",
            "235\n",
            "237\n",
            "239\n",
            "241\n",
            "243\n",
            "245\n",
            "247\n",
            "249\n",
            "251\n",
            "253\n",
            "255\n",
            "257\n",
            "259\n",
            "261\n",
            "263\n",
            "265\n",
            "267\n",
            "269\n",
            "271\n",
            "273\n",
            "275\n",
            "277\n",
            "279\n",
            "281\n",
            "283\n",
            "285\n",
            "287\n",
            "289\n",
            "291\n",
            "293\n",
            "295\n",
            "297\n",
            "299\n",
            "301\n",
            "303\n",
            "305\n",
            "307\n",
            "309\n",
            "311\n",
            "313\n",
            "315\n",
            "317\n",
            "319\n",
            "321\n",
            "323\n",
            "325\n",
            "327\n",
            "329\n",
            "331\n",
            "333\n",
            "335\n",
            "337\n",
            "339\n",
            "341\n",
            "343\n",
            "345\n",
            "347\n",
            "349\n",
            "351\n",
            "353\n",
            "355\n",
            "357\n",
            "359\n",
            "361\n",
            "363\n",
            "365\n",
            "367\n",
            "369\n",
            "371\n",
            "373\n",
            "375\n",
            "377\n",
            "379\n",
            "381\n",
            "383\n",
            "385\n",
            "387\n",
            "389\n",
            "391\n",
            "393\n",
            "395\n",
            "397\n",
            "399\n",
            "401\n",
            "403\n",
            "405\n",
            "407\n",
            "409\n",
            "411\n",
            "413\n",
            "415\n",
            "417\n",
            "419\n",
            "421\n",
            "423\n",
            "425\n",
            "427\n",
            "429\n",
            "431\n",
            "433\n",
            "435\n",
            "437\n",
            "439\n",
            "441\n",
            "443\n",
            "445\n",
            "447\n",
            "449\n",
            "451\n",
            "453\n",
            "455\n",
            "457\n",
            "459\n",
            "461\n",
            "463\n",
            "465\n",
            "467\n",
            "469\n",
            "471\n",
            "473\n",
            "475\n",
            "477\n",
            "479\n",
            "481\n",
            "483\n",
            "485\n",
            "487\n",
            "489\n",
            "491\n",
            "493\n",
            "495\n",
            "497\n",
            "499\n",
            "501\n",
            "503\n",
            "505\n",
            "507\n",
            "509\n",
            "511\n",
            "513\n",
            "515\n",
            "517\n",
            "519\n",
            "521\n",
            "523\n",
            "525\n",
            "527\n",
            "529\n",
            "531\n",
            "533\n",
            "535\n",
            "537\n",
            "539\n",
            "541\n",
            "543\n",
            "545\n",
            "547\n",
            "549\n",
            "551\n",
            "553\n",
            "555\n",
            "557\n",
            "559\n",
            "561\n",
            "563\n",
            "565\n",
            "567\n",
            "569\n",
            "571\n",
            "573\n",
            "575\n",
            "577\n",
            "579\n",
            "581\n",
            "583\n",
            "585\n",
            "587\n",
            "589\n",
            "591\n",
            "593\n",
            "595\n",
            "597\n",
            "599\n",
            "601\n",
            "603\n",
            "605\n",
            "607\n",
            "609\n",
            "611\n",
            "613\n",
            "615\n",
            "617\n",
            "619\n",
            "621\n",
            "623\n",
            "625\n",
            "627\n",
            "629\n",
            "631\n",
            "633\n",
            "635\n",
            "637\n",
            "639\n",
            "641\n",
            "643\n",
            "645\n",
            "647\n",
            "649\n",
            "651\n",
            "653\n",
            "655\n",
            "657\n",
            "659\n",
            "661\n",
            "663\n",
            "665\n",
            "667\n",
            "669\n",
            "671\n",
            "673\n",
            "675\n",
            "677\n",
            "679\n",
            "681\n",
            "683\n",
            "685\n",
            "687\n",
            "689\n",
            "691\n",
            "693\n",
            "695\n",
            "697\n",
            "699\n",
            "701\n",
            "703\n",
            "705\n",
            "707\n",
            "709\n",
            "711\n",
            "713\n",
            "715\n",
            "717\n",
            "719\n",
            "721\n",
            "723\n",
            "725\n",
            "727\n",
            "729\n",
            "731\n",
            "733\n",
            "735\n",
            "737\n",
            "739\n",
            "741\n",
            "743\n",
            "745\n",
            "747\n",
            "749\n",
            "751\n",
            "753\n",
            "755\n",
            "757\n",
            "759\n",
            "761\n",
            "763\n",
            "765\n",
            "767\n",
            "769\n",
            "771\n",
            "773\n",
            "775\n",
            "777\n",
            "779\n",
            "781\n",
            "783\n",
            "785\n",
            "787\n",
            "789\n",
            "791\n",
            "793\n",
            "795\n",
            "797\n",
            "799\n",
            "801\n",
            "803\n",
            "805\n",
            "807\n",
            "809\n",
            "811\n",
            "813\n",
            "815\n",
            "817\n",
            "819\n",
            "821\n",
            "823\n",
            "825\n",
            "827\n",
            "829\n",
            "831\n",
            "833\n",
            "835\n",
            "837\n",
            "839\n",
            "841\n",
            "843\n",
            "845\n",
            "847\n",
            "849\n",
            "851\n",
            "853\n",
            "855\n",
            "857\n",
            "859\n",
            "861\n",
            "863\n",
            "865\n",
            "867\n",
            "869\n",
            "871\n",
            "873\n",
            "875\n",
            "877\n",
            "879\n",
            "881\n",
            "883\n",
            "885\n",
            "887\n",
            "889\n",
            "891\n",
            "893\n",
            "895\n",
            "897\n",
            "899\n",
            "901\n",
            "903\n",
            "905\n",
            "907\n",
            "909\n",
            "911\n",
            "913\n",
            "915\n",
            "917\n",
            "919\n",
            "921\n",
            "923\n",
            "925\n",
            "927\n",
            "929\n",
            "931\n",
            "933\n",
            "935\n",
            "937\n",
            "939\n",
            "941\n",
            "943\n",
            "945\n",
            "947\n",
            "949\n",
            "951\n",
            "953\n",
            "955\n",
            "957\n",
            "959\n",
            "961\n",
            "963\n",
            "965\n",
            "967\n",
            "969\n",
            "971\n",
            "973\n",
            "975\n",
            "977\n",
            "979\n",
            "981\n",
            "983\n",
            "985\n",
            "987\n",
            "989\n",
            "991\n",
            "993\n",
            "995\n",
            "997\n",
            "999\n",
            "The sum of the numbers from 1 to 1000 is: 250000\n"
          ]
        }
      ]
    },
    {
      "cell_type": "code",
      "source": [
        "sum = 0\n",
        "for i in range(1,1001):\n",
        "  sum +=i\n",
        "print(sum)"
      ],
      "metadata": {
        "colab": {
          "base_uri": "https://localhost:8080/"
        },
        "id": "8A-xjG3b5xOE",
        "outputId": "c97ef354-9b1f-4a12-851e-a5a733aac119"
      },
      "execution_count": null,
      "outputs": [
        {
          "output_type": "stream",
          "name": "stdout",
          "text": [
            "500500\n"
          ]
        }
      ]
    },
    {
      "cell_type": "code",
      "source": [
        "sum = 0\n",
        "for i in range(1,1000,3):\n",
        "  sum +=i\n",
        "print(f\"The sum is:{sum}\")"
      ],
      "metadata": {
        "colab": {
          "base_uri": "https://localhost:8080/"
        },
        "id": "_69DiUCg6ijd",
        "outputId": "0702f411-7fe2-4bca-80ae-2810badd9551"
      },
      "execution_count": null,
      "outputs": [
        {
          "output_type": "stream",
          "name": "stdout",
          "text": [
            "The sum is:166167\n"
          ]
        }
      ]
    },
    {
      "cell_type": "code",
      "source": [
        "Start = 1\n",
        "end   = 6\n",
        "sum = 0\n",
        "for i in range(start,end):\n",
        "  sum +=i\n",
        "print(sum)\n",
        "print(f\"The sum is:{sum}\")\n",
        "print(\"The sum is numbers from\",start,\"to\",end-1,\"is\",sum)"
      ],
      "metadata": {
        "colab": {
          "base_uri": "https://localhost:8080/"
        },
        "id": "MNAlUmSF77kU",
        "outputId": "27b2576b-b577-4816-f23e-c945b19d6b75"
      },
      "execution_count": null,
      "outputs": [
        {
          "output_type": "stream",
          "name": "stdout",
          "text": [
            "15\n",
            "The sum is:15\n",
            "The sum is numbers from 1 to 5 is 15\n"
          ]
        }
      ]
    },
    {
      "cell_type": "code",
      "source": [
        "def divide(a,b):\n",
        " #divident = a\n",
        " #divisor  =b\n",
        " if a%b == 0:\n",
        "  print(\"divisible\")\n",
        " else:\n",
        "  print(\"not divisible\")"
      ],
      "metadata": {
        "id": "VxaWrPenENrl"
      },
      "execution_count": null,
      "outputs": []
    },
    {
      "cell_type": "code",
      "source": [
        "divide(10,5)"
      ],
      "metadata": {
        "colab": {
          "base_uri": "https://localhost:8080/"
        },
        "id": "slB8cdQvFUDO",
        "outputId": "47b39a9f-4f00-4f6e-8913-52dba320db26"
      },
      "execution_count": null,
      "outputs": [
        {
          "output_type": "stream",
          "name": "stdout",
          "text": [
            "divisible\n"
          ]
        }
      ]
    },
    {
      "cell_type": "code",
      "source": [
        "def multiply(a,b):\n",
        "  if a*b == 10:\n",
        "    print(\"Ok\")\n",
        "  else:\n",
        "    print(\"not ok\")"
      ],
      "metadata": {
        "id": "47dLxtnbFfL2"
      },
      "execution_count": null,
      "outputs": []
    },
    {
      "cell_type": "code",
      "source": [],
      "metadata": {
        "id": "y7FAf2v4G5T2"
      },
      "execution_count": null,
      "outputs": []
    },
    {
      "cell_type": "code",
      "source": [
        "multiply(6,2)"
      ],
      "metadata": {
        "colab": {
          "base_uri": "https://localhost:8080/"
        },
        "id": "Hauhh_8NGG3W",
        "outputId": "0cdb2095-7de4-4313-8cb3-4e267ddfefb5"
      },
      "execution_count": null,
      "outputs": [
        {
          "output_type": "stream",
          "name": "stdout",
          "text": [
            "not ok\n"
          ]
        }
      ]
    },
    {
      "cell_type": "code",
      "source": [
        "def distance(x1,y1,x2,y2):\n",
        "  distance = {((x2 - x1)**2 + (y2 - y1)**2)}**0.5\n",
        "  print(distance)"
      ],
      "metadata": {
        "id": "jq1lgDZUG6oe"
      },
      "execution_count": null,
      "outputs": []
    },
    {
      "cell_type": "code",
      "source": [
        "x1,y1 = 1,2\n",
        "x2,y2 = 4,6\n",
        "distance = calculate_distance(x1,y1,x2,y2):\n",
        "print(distance)"
      ],
      "metadata": {
        "colab": {
          "base_uri": "https://localhost:8080/",
          "height": 110
        },
        "id": "nqYvDHqNPcQb",
        "outputId": "f46aced1-2741-4594-df6e-05601d6fb10e"
      },
      "execution_count": null,
      "outputs": [
        {
          "output_type": "error",
          "ename": "SyntaxError",
          "evalue": "invalid syntax (<ipython-input-44-86c55bf29bb3>, line 3)",
          "traceback": [
            "\u001b[0;36m  File \u001b[0;32m\"<ipython-input-44-86c55bf29bb3>\"\u001b[0;36m, line \u001b[0;32m3\u001b[0m\n\u001b[0;31m    distance = calculate_distance(x1,y1,x2,y2):\u001b[0m\n\u001b[0m                                              ^\u001b[0m\n\u001b[0;31mSyntaxError\u001b[0m\u001b[0;31m:\u001b[0m invalid syntax\n"
          ]
        }
      ]
    },
    {
      "cell_type": "code",
      "source": [
        "def factorial(n): #header\n",
        " print(\"Inside or outside\")"
      ],
      "metadata": {
        "id": "_jN0OtndP-ma"
      },
      "execution_count": null,
      "outputs": []
    },
    {
      "cell_type": "code",
      "source": [
        "#5! = 5*4*3*2*1\n",
        "def factorial(n):\n",
        "  factorial_val = 1\n",
        "  for i in range(1,n+1):\n",
        "    factorial_val *= i\n",
        "    print(\"inside loop:\", i)\n",
        "  return factorial_val"
      ],
      "metadata": {
        "id": "JGyWTRSaWtJ8"
      },
      "execution_count": null,
      "outputs": []
    },
    {
      "cell_type": "code",
      "source": [
        "def factorial (m):\n",
        "  factorial_val = 0\n",
        "  for i in range(3,m+1):\n",
        "    factorial_val *= i\n",
        "    #print(factorial_val)\n",
        "    print(\"Here is:\" , i)\n",
        "  return factorial_val\n"
      ],
      "metadata": {
        "id": "gwuARn0DZbJ-"
      },
      "execution_count": null,
      "outputs": []
    },
    {
      "cell_type": "code",
      "source": [
        "result = factorial(5)\n",
        "print(result)"
      ],
      "metadata": {
        "colab": {
          "base_uri": "https://localhost:8080/"
        },
        "id": "awhOslMgadNN",
        "outputId": "cbacd744-4a76-47d9-c40e-37fa143fa986"
      },
      "execution_count": null,
      "outputs": [
        {
          "output_type": "stream",
          "name": "stdout",
          "text": [
            "Here is: 3\n",
            "Here is: 4\n",
            "Here is: 5\n",
            "0\n"
          ]
        }
      ]
    },
    {
      "cell_type": "code",
      "source": [
        "result = factorial(5)\n",
        "print(result)"
      ],
      "metadata": {
        "colab": {
          "base_uri": "https://localhost:8080/"
        },
        "id": "8cJiVrilaqDb",
        "outputId": "c96944a1-6acc-462c-e0ca-02f3b37583a4"
      },
      "execution_count": null,
      "outputs": [
        {
          "output_type": "stream",
          "name": "stdout",
          "text": [
            "inside loop: 1\n",
            "inside loop: 2\n",
            "inside loop: 3\n",
            "inside loop: 4\n",
            "inside loop: 5\n",
            "120\n"
          ]
        }
      ]
    },
    {
      "cell_type": "code",
      "source": [
        "print (2 +5)\n",
        "print (2-5)\n",
        "print (2*5)\n",
        "print (2/5)\n",
        "print (15%2)\n",
        "print(9//5,type(9//5))"
      ],
      "metadata": {
        "colab": {
          "base_uri": "https://localhost:8080/"
        },
        "id": "z7xb_2jUX4mf",
        "outputId": "c5bc6654-54c2-47e5-f8c0-245062bf24d9"
      },
      "execution_count": null,
      "outputs": [
        {
          "output_type": "stream",
          "name": "stdout",
          "text": [
            "7\n",
            "-3\n",
            "10\n",
            "0.4\n",
            "1\n",
            "1 <class 'int'>\n"
          ]
        }
      ]
    },
    {
      "cell_type": "code",
      "source": [
        "for i in range (3):\n",
        "  for j in range (2):\n",
        "    print(i,j, end= \"|\")\n",
        "  print()\n"
      ],
      "metadata": {
        "colab": {
          "base_uri": "https://localhost:8080/"
        },
        "id": "PJy0drkscr3S",
        "outputId": "5e0e7d59-7772-4b31-e319-a1aad539d055"
      },
      "execution_count": null,
      "outputs": [
        {
          "output_type": "stream",
          "name": "stdout",
          "text": [
            "0 0|0 1|\n",
            "1 0|1 1|\n",
            "2 0|2 1|\n"
          ]
        }
      ]
    },
    {
      "cell_type": "code",
      "source": [
        "num_list = [10,20,30,40,50,60,70,80,90,100,200,300,400,500,600,654,567,789,987,456]\n",
        "Find = 300\n",
        "for i in range(len(num_list)):\n",
        "  if num_list == Find:\n",
        "    print(\"Found\")\n",
        "else:\n",
        "   print(\"Not Found\")"
      ],
      "metadata": {
        "colab": {
          "base_uri": "https://localhost:8080/"
        },
        "id": "j5kwI8paYLsm",
        "outputId": "d7111797-1ae1-4e53-9928-583e3b3a0d37"
      },
      "execution_count": null,
      "outputs": [
        {
          "output_type": "stream",
          "name": "stdout",
          "text": [
            "Not Found\n"
          ]
        }
      ]
    },
    {
      "cell_type": "code",
      "source": [
        "num_list = [10,20,30,40,50,60,70,80,90,100,200,300,400,500,600,654,567,789,987,456]\n",
        "def find_num_index(search_num):\n",
        "  index = 0\n",
        "  for num in num_list:\n",
        "    if num == search_num:\n",
        "      print(f\"{search_num} index in list:{index}\")\n",
        "    index +=1"
      ],
      "metadata": {
        "id": "GvUFk3M4ctnf"
      },
      "execution_count": null,
      "outputs": []
    },
    {
      "cell_type": "code",
      "source": [
        "find_num_index(30)"
      ],
      "metadata": {
        "colab": {
          "base_uri": "https://localhost:8080/"
        },
        "id": "hWJKKJ6ufUOA",
        "outputId": "94912247-27c6-4042-b25a-b113928e1047"
      },
      "execution_count": null,
      "outputs": [
        {
          "output_type": "stream",
          "name": "stdout",
          "text": [
            "30 index in list:2\n"
          ]
        }
      ]
    },
    {
      "cell_type": "markdown",
      "source": [
        "bREAK STATEMENT FOR LOOP _LEAVE FROM FOR LOOP\n",
        "nested for loop"
      ],
      "metadata": {
        "id": "pyoyxKt_gy8H"
      }
    },
    {
      "cell_type": "code",
      "source": [
        "Fruit_list =[\"Banana\",\"Apple\",\"Jackfruit\",\"Mango\",\"Orange\"]\n",
        "def find_fruit_index(Seach_fruit)"
      ],
      "metadata": {
        "id": "ndn5KI31gmYh"
      },
      "execution_count": null,
      "outputs": []
    },
    {
      "cell_type": "code",
      "source": [
        "for j in range(10,20):\n",
        "   print(j)\n",
        "   #break\n",
        "   for i in range(5):\n",
        "    print(i)\n",
        "    #break\n",
        "  # break"
      ],
      "metadata": {
        "colab": {
          "base_uri": "https://localhost:8080/"
        },
        "id": "NaqvTfvijF9K",
        "outputId": "23b13015-6a13-4916-ddf4-d2c3090b2912"
      },
      "execution_count": null,
      "outputs": [
        {
          "output_type": "stream",
          "name": "stdout",
          "text": [
            "10\n",
            "0\n",
            "1\n",
            "2\n",
            "3\n",
            "4\n",
            "11\n",
            "0\n",
            "1\n",
            "2\n",
            "3\n",
            "4\n",
            "12\n",
            "0\n",
            "1\n",
            "2\n",
            "3\n",
            "4\n",
            "13\n",
            "0\n",
            "1\n",
            "2\n",
            "3\n",
            "4\n",
            "14\n",
            "0\n",
            "1\n",
            "2\n",
            "3\n",
            "4\n",
            "15\n",
            "0\n",
            "1\n",
            "2\n",
            "3\n",
            "4\n",
            "16\n",
            "0\n",
            "1\n",
            "2\n",
            "3\n",
            "4\n",
            "17\n",
            "0\n",
            "1\n",
            "2\n",
            "3\n",
            "4\n",
            "18\n",
            "0\n",
            "1\n",
            "2\n",
            "3\n",
            "4\n",
            "19\n",
            "0\n",
            "1\n",
            "2\n",
            "3\n",
            "4\n"
          ]
        }
      ]
    },
    {
      "cell_type": "markdown",
      "source": [
        "Hacker  rank"
      ],
      "metadata": {
        "id": "BDvl3-Fvx0ag"
      }
    },
    {
      "cell_type": "code",
      "source": [
        "#Task02 : Find out count of odd number num_list\n",
        "num_list = range(2,8)\n",
        "print(*num_list)\n",
        "\n",
        "def count_odd_num():\n",
        "  count = 0\n",
        "  for num in num_list:\n",
        "    print(num)\n",
        "    if num % 2 ==0:\n",
        "      print(\"Before continue\")\n",
        "      continue\n",
        "      print(\"After continue\")\n",
        "\n",
        "    print(\"Outside if clause\")\n",
        "    count += 1\n",
        "  return  count\n",
        "\n",
        "count =count_odd_num()"
      ],
      "metadata": {
        "colab": {
          "base_uri": "https://localhost:8080/"
        },
        "id": "vCBFhkzkyuEo",
        "outputId": "6d18631e-9b97-4d9e-ef5d-b3debd1d70d2"
      },
      "execution_count": null,
      "outputs": [
        {
          "output_type": "stream",
          "name": "stdout",
          "text": [
            "2 3 4 5 6 7\n",
            "2\n",
            "Before continue\n",
            "3\n",
            "Outside if clause\n",
            "4\n",
            "Before continue\n",
            "5\n",
            "Outside if clause\n",
            "6\n",
            "Before continue\n",
            "7\n",
            "Outside if clause\n"
          ]
        }
      ]
    },
    {
      "cell_type": "code",
      "source": [
        "num_list = range(2,8)\n",
        "print(*num_list)"
      ],
      "metadata": {
        "colab": {
          "base_uri": "https://localhost:8080/"
        },
        "id": "5SLXnCCN0prJ",
        "outputId": "f4ca056e-69fd-434a-f4b9-8817bf95947e"
      },
      "execution_count": null,
      "outputs": [
        {
          "output_type": "stream",
          "name": "stdout",
          "text": [
            "2 3 4 5 6 7\n"
          ]
        }
      ]
    },
    {
      "cell_type": "code",
      "source": [
        "for i in range(1,3):\n",
        "  print (i)\n",
        " # break\n",
        "  continue\n",
        "else:\n",
        "  print(\"y\")"
      ],
      "metadata": {
        "colab": {
          "base_uri": "https://localhost:8080/"
        },
        "id": "HvBxV5fH3yk1",
        "outputId": "e2711531-94d6-42e8-c18d-d1fdb6ea4782"
      },
      "execution_count": null,
      "outputs": [
        {
          "output_type": "stream",
          "name": "stdout",
          "text": [
            "1\n",
            "2\n",
            "y\n"
          ]
        }
      ]
    },
    {
      "cell_type": "code",
      "source": [
        "random_str"
      ],
      "metadata": {
        "id": "61pOWpXu5Kdy"
      },
      "execution_count": null,
      "outputs": []
    }
  ]
}